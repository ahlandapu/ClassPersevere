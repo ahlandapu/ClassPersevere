{
 "cells": [
  {
   "cell_type": "markdown",
   "id": "d65799e7",
   "metadata": {},
   "source": [
    "## Python\n",
    "Python is a popular programming language. It was created by Guido van Rossum, and released in 1991."
   ]
  },
  {
   "cell_type": "code",
   "execution_count": 7,
   "id": "09221df9",
   "metadata": {},
   "outputs": [
    {
     "name": "stdout",
     "output_type": "stream",
     "text": [
      "hello world\n"
     ]
    }
   ],
   "source": [
    "#ini komentar\n",
    "print('hello world')"
   ]
  },
  {
   "cell_type": "code",
   "execution_count": 15,
   "id": "9b05d240",
   "metadata": {},
   "outputs": [],
   "source": [
    "a=10"
   ]
  },
  {
   "cell_type": "code",
   "execution_count": 16,
   "id": "aac6b99a",
   "metadata": {},
   "outputs": [],
   "source": [
    "b=5"
   ]
  },
  {
   "cell_type": "code",
   "execution_count": 17,
   "id": "3e9894b8",
   "metadata": {},
   "outputs": [
    {
     "name": "stdout",
     "output_type": "stream",
     "text": [
      "15\n"
     ]
    }
   ],
   "source": [
    "c=a+b\n",
    "print(c)"
   ]
  },
  {
   "cell_type": "code",
   "execution_count": null,
   "id": "03b6e58f",
   "metadata": {},
   "outputs": [],
   "source": [
    "a=50\n",
    "print(a)"
   ]
  },
  {
   "cell_type": "code",
   "execution_count": 23,
   "id": "44c7c402",
   "metadata": {},
   "outputs": [
    {
     "data": {
      "text/html": [
       "\n",
       "        <iframe\n",
       "            width=\"900\"\n",
       "            height=\"400\"\n",
       "            src=\"https://orbitfutureacademy.id/\"\n",
       "            frameborder=\"0\"\n",
       "            allowfullscreen\n",
       "            \n",
       "        ></iframe>\n",
       "        "
      ],
      "text/plain": [
       "<IPython.lib.display.IFrame at 0x197bf9d11f0>"
      ]
     },
     "execution_count": 23,
     "metadata": {},
     "output_type": "execute_result"
    }
   ],
   "source": [
    "from IPython.display import IFrame\n",
    "url = 'https://orbitfutureacademy.id/'\n",
    "IFrame(url, width=900, height=400)"
   ]
  },
  {
   "cell_type": "markdown",
   "id": "da5e9043",
   "metadata": {},
   "source": [
    "## Python Indentation\n",
    "Indentation refers to the spaces at the beginning of a code line.Where in other programming languages \n",
    "the indentation in code is for readability only, the indentation in Python is very important Python uses indentation to indicate a block of code."
   ]
  },
  {
   "cell_type": "code",
   "execution_count": 2,
   "id": "f3c23910",
   "metadata": {},
   "outputs": [
    {
     "name": "stdout",
     "output_type": "stream",
     "text": [
      "Alqn\n"
     ]
    }
   ],
   "source": [
    "x = 4\n",
    "x = \"Alqn\"\n",
    "print(x)"
   ]
  },
  {
   "cell_type": "code",
   "execution_count": 3,
   "id": "a4989e08",
   "metadata": {},
   "outputs": [
    {
     "name": "stdout",
     "output_type": "stream",
     "text": [
      "3 3 3.0\n"
     ]
    }
   ],
   "source": [
    "x = str(3)\n",
    "y = int(3)\n",
    "z = float(3)\n",
    "print(x, y, z)"
   ]
  },
  {
   "cell_type": "markdown",
   "id": "a79a2c12",
   "metadata": {},
   "source": [
    "## Get the Type\n",
    "You can get the data type of a variable with the type() function."
   ]
  },
  {
   "cell_type": "code",
   "execution_count": 2,
   "id": "8e2c4966",
   "metadata": {},
   "outputs": [
    {
     "name": "stdout",
     "output_type": "stream",
     "text": [
      "<class 'int'>\n"
     ]
    }
   ],
   "source": [
    "x = 5\n",
    "print(type(x))"
   ]
  },
  {
   "cell_type": "code",
   "execution_count": 7,
   "id": "3aaabc91",
   "metadata": {},
   "outputs": [
    {
     "name": "stdout",
     "output_type": "stream",
     "text": [
      "pink red white\n",
      "white pink red\n"
     ]
    }
   ],
   "source": [
    "x,y,z = \"pink\", \"red\", \"white\"\n",
    "print(x,y,z)\n",
    "print(z,x,y)"
   ]
  },
  {
   "cell_type": "code",
   "execution_count": 1,
   "id": "f58f6fa9",
   "metadata": {},
   "outputs": [
    {
     "name": "stdout",
     "output_type": "stream",
     "text": [
      "48\n"
     ]
    }
   ],
   "source": [
    "\"\"\"Random Number\"\"\"\n",
    "import random\n",
    "print(random.randrange(1,100))"
   ]
  },
  {
   "cell_type": "markdown",
   "id": "ffbb7ce7",
   "metadata": {},
   "source": [
    "## Python Casting"
   ]
  },
  {
   "cell_type": "code",
   "execution_count": 6,
   "id": "288a8515",
   "metadata": {},
   "outputs": [
    {
     "name": "stdout",
     "output_type": "stream",
     "text": [
      "1 2 3\n"
     ]
    }
   ],
   "source": [
    "x= int(1)\n",
    "y= int(2.8)\n",
    "z= int(\"3\")\n",
    "print(x,y,z)"
   ]
  },
  {
   "cell_type": "code",
   "execution_count": 8,
   "id": "2afe8686",
   "metadata": {},
   "outputs": [
    {
     "name": "stdout",
     "output_type": "stream",
     "text": [
      "jazz Tesla Avanza\n"
     ]
    }
   ],
   "source": [
    "mobil = [\"jazz\", \"Tesla\", \"Avanza\"]\n",
    "x,y,z = mobil\n",
    "print(x,y,z)"
   ]
  },
  {
   "cell_type": "markdown",
   "id": "84e33b87",
   "metadata": {},
   "source": [
    "## Python - Modify Strings\n",
    "Upper case dan Lower Case"
   ]
  },
  {
   "cell_type": "code",
   "execution_count": 10,
   "id": "8e7558cb",
   "metadata": {},
   "outputs": [
    {
     "name": "stdout",
     "output_type": "stream",
     "text": [
      "HELLO, WORLD!\n",
      "hello, world!\n"
     ]
    }
   ],
   "source": [
    "a = \"Hello, World!\"\n",
    "print(a.upper())\n",
    "print(a.lower())"
   ]
  },
  {
   "cell_type": "markdown",
   "id": "975c7013",
   "metadata": {},
   "source": [
    "### Remove Whitespace"
   ]
  },
  {
   "cell_type": "code",
   "execution_count": 12,
   "id": "c0645f34",
   "metadata": {},
   "outputs": [
    {
     "name": "stdout",
     "output_type": "stream",
     "text": [
      "Hello, World!\n"
     ]
    }
   ],
   "source": [
    "a = \" Hello, World! \"\n",
    "print(a.strip()) "
   ]
  },
  {
   "cell_type": "markdown",
   "id": "df9349ca",
   "metadata": {},
   "source": [
    "### Replace String"
   ]
  },
  {
   "cell_type": "code",
   "execution_count": 17,
   "id": "69329acd",
   "metadata": {},
   "outputs": [
    {
     "name": "stdout",
     "output_type": "stream",
     "text": [
      "Jello, World!\n"
     ]
    }
   ],
   "source": [
    "a = \"Hello, World!\"\n",
    "print(a.replace(\"H\", \"J\"))"
   ]
  },
  {
   "cell_type": "markdown",
   "id": "1ef35231",
   "metadata": {},
   "source": [
    "### Split String"
   ]
  },
  {
   "cell_type": "code",
   "execution_count": 18,
   "id": "c75076e5",
   "metadata": {},
   "outputs": [
    {
     "name": "stdout",
     "output_type": "stream",
     "text": [
      "['Hello', ' World!']\n"
     ]
    }
   ],
   "source": [
    "a = \"Hello, World!\"\n",
    "print(a.split(\",\"))"
   ]
  },
  {
   "cell_type": "markdown",
   "id": "4ed4506f",
   "metadata": {},
   "source": [
    "# Python - Format - Strings\n",
    "The format() method takes the passed arguments, formats them, and places them in the string where the placeholders {} are:"
   ]
  },
  {
   "cell_type": "code",
   "execution_count": 19,
   "id": "c4559f8b",
   "metadata": {},
   "outputs": [
    {
     "name": "stdout",
     "output_type": "stream",
     "text": [
      "My name is John, and I am 36\n"
     ]
    }
   ],
   "source": [
    "age = 36\n",
    "txt = \"My name is John, and I am {}\"\n",
    "print(txt.format(age))"
   ]
  },
  {
   "cell_type": "code",
   "execution_count": 20,
   "id": "f24f8368",
   "metadata": {},
   "outputs": [
    {
     "name": "stdout",
     "output_type": "stream",
     "text": [
      "I want 3 pieces of item 567 for 49.95 dollars.\n"
     ]
    }
   ],
   "source": [
    "quantity = 3\n",
    "itemno = 567\n",
    "price = 49.95\n",
    "myorder = \"I want {} pieces of item {} for {} dollars.\"\n",
    "print(myorder.format(quantity, itemno, price))"
   ]
  },
  {
   "cell_type": "markdown",
   "id": "c857a44e",
   "metadata": {},
   "source": [
    "### Escape Character\n",
    "To insert characters that are illegal in a string, use an escape character.\n",
    "An escape character is a backslash \\ followed by the character you want to insert.\n",
    "An example of an illegal character is a double quote inside a string that is surrounded by double quotes: "
   ]
  },
  {
   "cell_type": "code",
   "execution_count": 23,
   "id": "220b8c26",
   "metadata": {},
   "outputs": [
    {
     "name": "stdout",
     "output_type": "stream",
     "text": [
      "We are the so-called \"Vikings\" from the north.\n"
     ]
    }
   ],
   "source": [
    "txt = \"We are the so-called \\\"Vikings\\\" from the north.\"\n",
    "print(txt)"
   ]
  },
  {
   "cell_type": "markdown",
   "id": "5f71568f",
   "metadata": {},
   "source": [
    "## Python Boolean\n",
    "Booleans represent one of two values: True or False."
   ]
  },
  {
   "cell_type": "code",
   "execution_count": 24,
   "id": "4fa527e1",
   "metadata": {},
   "outputs": [
    {
     "name": "stdout",
     "output_type": "stream",
     "text": [
      "True\n",
      "False\n",
      "False\n"
     ]
    }
   ],
   "source": [
    "print(10 > 9)\n",
    "print(10 == 9)\n",
    "print(10 < 9)"
   ]
  },
  {
   "cell_type": "code",
   "execution_count": 26,
   "id": "2defc482",
   "metadata": {},
   "outputs": [
    {
     "name": "stdout",
     "output_type": "stream",
     "text": [
      "b is greater than a\n"
     ]
    }
   ],
   "source": [
    "a = 30\n",
    "b = 33\n",
    "\n",
    "if b > a:\n",
    "  print(\"b is greater than a\")\n",
    "else:\n",
    "  print(\"b is not greater than a\")"
   ]
  },
  {
   "cell_type": "markdown",
   "id": "64d78f4c",
   "metadata": {},
   "source": [
    "### Evaluate Values and Variables"
   ]
  },
  {
   "cell_type": "code",
   "execution_count": 27,
   "id": "e0b9c693",
   "metadata": {},
   "outputs": [
    {
     "name": "stdout",
     "output_type": "stream",
     "text": [
      "True\n",
      "True\n"
     ]
    }
   ],
   "source": [
    "print(bool(\"Hello\"))\n",
    "print(bool(15))"
   ]
  },
  {
   "cell_type": "code",
   "execution_count": 28,
   "id": "0266f716",
   "metadata": {},
   "outputs": [
    {
     "name": "stdout",
     "output_type": "stream",
     "text": [
      "True\n",
      "True\n"
     ]
    }
   ],
   "source": [
    "x = \"Hello\"\n",
    "y = 15\n",
    "\n",
    "print(bool(x))\n",
    "print(bool(y))"
   ]
  },
  {
   "cell_type": "markdown",
   "id": "fbf648fe",
   "metadata": {},
   "source": [
    "### Most Values are True\n",
    "Almost any value is evaluated to True if it has some sort of content.\n",
    "\n",
    "Any string is True, except empty strings.\n",
    "\n",
    "Any number is True, except 0.\n",
    "\n",
    "Any list, tuple, set, and dictionary are True, except empty ones."
   ]
  },
  {
   "cell_type": "markdown",
   "id": "1b3dd051",
   "metadata": {},
   "source": [
    "## Python Operators"
   ]
  },
  {
   "cell_type": "code",
   "execution_count": 40,
   "id": "b371856a",
   "metadata": {},
   "outputs": [],
   "source": [
    "x = 10\n",
    "y = 5"
   ]
  },
  {
   "cell_type": "code",
   "execution_count": 41,
   "id": "c0345086",
   "metadata": {},
   "outputs": [
    {
     "name": "stdout",
     "output_type": "stream",
     "text": [
      "15\n",
      "5\n",
      "2.0\n",
      "50\n",
      "0\n",
      "100000\n",
      "2\n"
     ]
    }
   ],
   "source": [
    "print(x + y)\n",
    "print(x - y)\n",
    "print(x / y)\n",
    "print(x * y)\n",
    "print(x % y)\n",
    "print(x ** y)\n",
    "print(x // y)"
   ]
  },
  {
   "cell_type": "markdown",
   "id": "820ca287",
   "metadata": {},
   "source": [
    "### Python Comparison Operators\n",
    "Comparison operators are used to compare two values: "
   ]
  },
  {
   "cell_type": "code",
   "execution_count": 42,
   "id": "43083e47",
   "metadata": {},
   "outputs": [
    {
     "data": {
      "text/plain": [
       "False"
      ]
     },
     "execution_count": 42,
     "metadata": {},
     "output_type": "execute_result"
    }
   ],
   "source": [
    "x == y"
   ]
  },
  {
   "cell_type": "code",
   "execution_count": 43,
   "id": "5432a01c",
   "metadata": {},
   "outputs": [
    {
     "data": {
      "text/plain": [
       "True"
      ]
     },
     "execution_count": 43,
     "metadata": {},
     "output_type": "execute_result"
    }
   ],
   "source": [
    "x != y"
   ]
  },
  {
   "cell_type": "markdown",
   "id": "c1f32513",
   "metadata": {},
   "source": [
    "### Python Logical Operators"
   ]
  },
  {
   "cell_type": "code",
   "execution_count": 46,
   "id": "1d082499",
   "metadata": {},
   "outputs": [
    {
     "name": "stdout",
     "output_type": "stream",
     "text": [
      "True\n",
      "True\n",
      "False\n"
     ]
    }
   ],
   "source": [
    "x = 5\n",
    "\n",
    "print(x > 3 and x < 10)\n",
    "print(x > 3 or x < 4)\n",
    "print(not(x > 3 and x < 10))"
   ]
  },
  {
   "cell_type": "markdown",
   "id": "70537cae",
   "metadata": {},
   "source": [
    "### Python Identity Operators"
   ]
  },
  {
   "cell_type": "code",
   "execution_count": 49,
   "id": "96f233cc",
   "metadata": {},
   "outputs": [
    {
     "name": "stdout",
     "output_type": "stream",
     "text": [
      "True\n",
      "False\n",
      "False\n",
      "True\n",
      "True\n",
      "False\n"
     ]
    }
   ],
   "source": [
    "x = [\"Salak\", \"Pisang\"]\n",
    "y = [\"Salak\", \"Pisang\"]\n",
    "z = x\n",
    "\n",
    "print(x is z)\n",
    "# returns True because z is the same object as x\n",
    "print(x is not z)\n",
    "# returns False because z is the same object as x\n",
    "\n",
    "print(x is y)\n",
    "# returns False because x is not the same object as y, even if they have the same content\n",
    "print(x is not y)\n",
    "# returns True because x is not the same object as y, even if they have the same content\n",
    "\n",
    "print(x == y)\n",
    "# to demonstrate the difference betweeen \"is\" and \"==\": this comparison returns True because x is equal to y\n",
    "print(x != y)\n",
    "# to demonstrate the difference betweeen \"is not\" and \"!=\": this comparison returns False because x is equal to y"
   ]
  },
  {
   "cell_type": "markdown",
   "id": "b2a3ec64",
   "metadata": {},
   "source": [
    "### Python Membership Operators"
   ]
  },
  {
   "cell_type": "code",
   "execution_count": 51,
   "id": "11bb1520",
   "metadata": {},
   "outputs": [
    {
     "name": "stdout",
     "output_type": "stream",
     "text": [
      "True\n"
     ]
    }
   ],
   "source": [
    "x = [\"Salak\", \"Pisang\"]\n",
    "print(\"Salak\" in x)\n",
    "\n",
    "# returns True because a sequence with the value \"banana\" is in the list"
   ]
  },
  {
   "cell_type": "code",
   "execution_count": 52,
   "id": "b04a7bf3",
   "metadata": {},
   "outputs": [
    {
     "name": "stdout",
     "output_type": "stream",
     "text": [
      "True\n"
     ]
    }
   ],
   "source": [
    "x = [\"Salak\", \"Pisang\"]\n",
    "print(\"Apel\" not in x)\n",
    "\n",
    "# returns True because a sequence with the value \"banana\" is in the list"
   ]
  },
  {
   "cell_type": "markdown",
   "id": "a42904d6",
   "metadata": {},
   "source": [
    "## Python Lists \n",
    "List\n",
    "Lists are used to store multiple items in a single variable.\n",
    "\n",
    "Lists are one of 4 built-in data types in Python used to store collections of data, the other 3 are Tuple, Set, and Dictionary, all with different qualities and usage.\n",
    "\n",
    "Lists are created using square brackets:"
   ]
  },
  {
   "cell_type": "code",
   "execution_count": null,
   "id": "9e96bc25",
   "metadata": {},
   "outputs": [],
   "source": []
  },
  {
   "cell_type": "code",
   "execution_count": null,
   "id": "b4135162",
   "metadata": {},
   "outputs": [],
   "source": []
  },
  {
   "cell_type": "code",
   "execution_count": null,
   "id": "6a3f03d6",
   "metadata": {},
   "outputs": [],
   "source": []
  }
 ],
 "metadata": {
  "kernelspec": {
   "display_name": "Python 3 (ipykernel)",
   "language": "python",
   "name": "python3"
  },
  "language_info": {
   "codemirror_mode": {
    "name": "ipython",
    "version": 3
   },
   "file_extension": ".py",
   "mimetype": "text/x-python",
   "name": "python",
   "nbconvert_exporter": "python",
   "pygments_lexer": "ipython3",
   "version": "3.9.7"
  }
 },
 "nbformat": 4,
 "nbformat_minor": 5
}
